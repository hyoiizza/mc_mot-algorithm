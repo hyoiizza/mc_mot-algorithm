{
 "cells": [
  {
   "cell_type": "code",
   "execution_count": 1,
   "id": "7971f695",
   "metadata": {},
   "outputs": [],
   "source": [
    "import torch\n",
    "import torch.nn as nn\n",
    "import torch.nn.functional as F\n",
    "from torchvision import datasets, transforms\n",
    "import torch.optim as optim\n",
    "import os\n",
    "import matplotlib.pyplot as plt\n",
    "import numpy as np\n",
    "from tqdm import tqdm "
   ]
  },
  {
   "cell_type": "code",
   "execution_count": 2,
   "id": "9361f8a2",
   "metadata": {},
   "outputs": [],
   "source": [
    "# 기본 Residual Block 정의\n",
    "class ResidualBlock(nn.Module):\n",
    "    def __init__(self, in_channels, out_channels=None, stride=1):\n",
    "        super().__init__()\n",
    "        out_channels = out_channels or in_channels\n",
    "        self.conv1 = nn.Conv2d(in_channels, out_channels, 3, stride, 1)\n",
    "        self.bn1 = nn.BatchNorm2d(out_channels)\n",
    "        self.relu = nn.ReLU(inplace=True)\n",
    "        self.conv2 = nn.Conv2d(out_channels, out_channels, 3, 1, 1)\n",
    "        self.bn2 = nn.BatchNorm2d(out_channels)\n",
    "\n",
    "        self.downsample = None\n",
    "        if stride != 1 or in_channels != out_channels:\n",
    "            self.downsample = nn.Sequential(\n",
    "                nn.Conv2d(in_channels, out_channels, 1, stride),\n",
    "                nn.BatchNorm2d(out_channels)\n",
    "            )\n",
    "\n",
    "    def forward(self, x):\n",
    "        identity = x\n",
    "        out = self.relu(self.bn1(self.conv1(x)))\n",
    "        out = self.bn2(self.conv2(out))\n",
    "\n",
    "        if self.downsample:\n",
    "            identity = self.downsample(x)\n",
    "\n",
    "        return self.relu(out + identity)"
   ]
  },
  {
   "cell_type": "code",
   "execution_count": 3,
   "id": "7322fc53",
   "metadata": {},
   "outputs": [],
   "source": [
    "# 전체 Appearance CNN 정의\n",
    "class DeepSortEncoder(nn.Module):\n",
    "    def __init__(self):\n",
    "        super().__init__()\n",
    "\n",
    "        self.net = nn.Sequential(\n",
    "            nn.Conv2d(3, 32, 3, stride=1, padding=1),   # Conv1\n",
    "            nn.ReLU(),\n",
    "            nn.Conv2d(32, 32, 3, stride=1, padding=1),  # Conv2\n",
    "            nn.ReLU(),\n",
    "            nn.MaxPool2d(3, stride=2, padding=1),       # MaxPool3\n",
    "\n",
    "            ResidualBlock(32),  # Res4\n",
    "            ResidualBlock(32),  # Res5\n",
    "\n",
    "            ResidualBlock(32, 64, stride=2),  # Res6 (downsample)\n",
    "            ResidualBlock(64),                # Res7\n",
    "\n",
    "            ResidualBlock(64, 128, stride=2), # Res8 (downsample)\n",
    "            ResidualBlock(128),               # Res9\n",
    "        )\n",
    "\n",
    "        self.embedding = nn.Sequential(\n",
    "            nn.Flatten(),                    # flatten to (128×16×8) = 16384\n",
    "            nn.Linear(128 * 16 * 8, 128),    # Dense 10\n",
    "            nn.BatchNorm1d(128),\n",
    "        )\n",
    "\n",
    "    def forward(self, x):\n",
    "        x = self.net(x)                    # CNN block\n",
    "        x = self.embedding(x)             # FC layer\n",
    "        x = F.normalize(x, p=2, dim=1)    # L2 normalization to unit hypersphere\n",
    "        return x                          # shape: (N, 128)"
   ]
  },
  {
   "cell_type": "code",
   "execution_count": 4,
   "id": "0222d239",
   "metadata": {},
   "outputs": [],
   "source": [
    "def create_triplets(features, labels):\n",
    "    anchors, positives, negatives = [], [], []\n",
    "\n",
    "    labels = labels.cpu().numpy()\n",
    "    for i in range(len(features)):\n",
    "        a = features[i]\n",
    "        label_a = labels[i]\n",
    "\n",
    "        # Positive 샘플 선택\n",
    "        pos_indices = np.where(labels == label_a)[0]\n",
    "        pos_indices = pos_indices[pos_indices != i]\n",
    "        if len(pos_indices) == 0: continue\n",
    "        p = features[np.random.choice(pos_indices)]\n",
    "\n",
    "        # Negative 샘플 선택\n",
    "        neg_indices = np.where(labels != label_a)[0]\n",
    "        n = features[np.random.choice(neg_indices)]\n",
    "\n",
    "        anchors.append(a)\n",
    "        positives.append(p)\n",
    "        negatives.append(n)\n",
    "\n",
    "    return torch.stack(anchors), torch.stack(positives), torch.stack(negatives)\n"
   ]
  },
  {
   "cell_type": "code",
   "execution_count": 5,
   "id": "b8ad6bb9",
   "metadata": {},
   "outputs": [
    {
     "name": "stdout",
     "output_type": "stream",
     "text": [
      "Using Device: cpu\n"
     ]
    }
   ],
   "source": [
    "data_dir = './data/processed/train/'\n",
    "result_dir = './result/'\n",
    "os.makedirs(result_dir, exist_ok=True)\n",
    "\n",
    "device = \"cuda\" if torch.cuda.is_available() else \"cpu\" \n",
    "epochs = 10  \n",
    "print(f\"Using Device: {device}\")\n",
    "\n",
    "# encoder 모델 정의\n",
    "model = DeepSortEncoder().to(device)\n",
    "\n",
    "transform = transforms.Compose([\n",
    "    transforms.Resize((128, 64)),\n",
    "    transforms.ToTensor(),\n",
    "    transforms.Normalize([0.485, 0.456, 0.406], [0.229, 0.224, 0.225]),\n",
    "])\n",
    "\n",
    "train_dataset = datasets.ImageFolder(root=data_dir, transform=transform)\n",
    "train_loader = torch.utils.data.DataLoader(train_dataset, batch_size=32, shuffle=True)\n",
    "\n",
    "criterion = nn.CrossEntropyLoss()\n",
    "triplet_loss = nn.TripletMarginLoss(margin=0.3, p=2)\n",
    "optimizer = optim.Adam(model.parameters(), lr=3e-4)"
   ]
  },
  {
   "cell_type": "code",
   "execution_count": 6,
   "id": "ec6d9c62",
   "metadata": {},
   "outputs": [
    {
     "name": "stderr",
     "output_type": "stream",
     "text": [
      "Epoch 1/20:   0%|          | 0/157 [00:41<?, ?batch/s, loss=0.0288] "
     ]
    },
    {
     "name": "stdout",
     "output_type": "stream",
     "text": [
      "[1/20] Loss: 17.6244\n"
     ]
    },
    {
     "name": "stderr",
     "output_type": "stream",
     "text": [
      "Epoch 1/20:   0%|          | 0/157 [00:41<?, ?batch/s, loss=0.0288]\n"
     ]
    },
    {
     "name": "stdout",
     "output_type": "stream",
     "text": [
      "[2/20] Loss: 8.7621\n"
     ]
    },
    {
     "name": "stderr",
     "output_type": "stream",
     "text": [
      "Epoch 2/20:   0%|          | 0/157 [00:57<?, ?batch/s, loss=0.085]\n",
      "Epoch 3/20:   0%|          | 0/157 [00:47<?, ?batch/s, loss=0]      "
     ]
    },
    {
     "name": "stdout",
     "output_type": "stream",
     "text": [
      "[3/20] Loss: 5.3482\n"
     ]
    },
    {
     "name": "stderr",
     "output_type": "stream",
     "text": [
      "Epoch 3/20:   0%|          | 0/157 [00:47<?, ?batch/s, loss=0]\n"
     ]
    },
    {
     "name": "stdout",
     "output_type": "stream",
     "text": [
      "[4/20] Loss: 3.4838\n"
     ]
    },
    {
     "name": "stderr",
     "output_type": "stream",
     "text": [
      "Epoch 4/20:   0%|          | 0/157 [00:49<?, ?batch/s, loss=0]\n",
      "Epoch 5/20:   0%|          | 0/157 [00:51<?, ?batch/s, loss=0]       "
     ]
    },
    {
     "name": "stdout",
     "output_type": "stream",
     "text": [
      "[5/20] Loss: 2.9739\n"
     ]
    },
    {
     "name": "stderr",
     "output_type": "stream",
     "text": [
      "Epoch 5/20:   0%|          | 0/157 [00:51<?, ?batch/s, loss=0]\n"
     ]
    },
    {
     "name": "stdout",
     "output_type": "stream",
     "text": [
      "[6/20] Loss: 1.9571\n"
     ]
    },
    {
     "name": "stderr",
     "output_type": "stream",
     "text": [
      "Epoch 6/20:   0%|          | 0/157 [00:49<?, ?batch/s, loss=0]\n",
      "Epoch 7/20:   0%|          | 0/157 [00:48<?, ?batch/s, loss=0]       "
     ]
    },
    {
     "name": "stdout",
     "output_type": "stream",
     "text": [
      "[7/20] Loss: 1.7310\n"
     ]
    },
    {
     "name": "stderr",
     "output_type": "stream",
     "text": [
      "Epoch 7/20:   0%|          | 0/157 [00:48<?, ?batch/s, loss=0]\n"
     ]
    },
    {
     "name": "stdout",
     "output_type": "stream",
     "text": [
      "[8/20] Loss: 1.1632\n"
     ]
    },
    {
     "name": "stderr",
     "output_type": "stream",
     "text": [
      "Epoch 8/20:   0%|          | 0/157 [00:46<?, ?batch/s, loss=0]\n",
      "Epoch 9/20:   0%|          | 0/157 [00:46<?, ?batch/s, loss=0.0396]  "
     ]
    },
    {
     "name": "stdout",
     "output_type": "stream",
     "text": [
      "[9/20] Loss: 1.0891\n"
     ]
    },
    {
     "name": "stderr",
     "output_type": "stream",
     "text": [
      "Epoch 9/20:   0%|          | 0/157 [00:46<?, ?batch/s, loss=0.0396]\n"
     ]
    },
    {
     "name": "stdout",
     "output_type": "stream",
     "text": [
      "[10/20] Loss: 1.1797\n"
     ]
    },
    {
     "name": "stderr",
     "output_type": "stream",
     "text": [
      "Epoch 10/20:   0%|          | 0/157 [00:50<?, ?batch/s, loss=0]\n",
      "Epoch 11/20:   0%|          | 0/157 [00:48<?, ?batch/s, loss=0]       "
     ]
    },
    {
     "name": "stdout",
     "output_type": "stream",
     "text": [
      "[11/20] Loss: 0.9493\n"
     ]
    },
    {
     "name": "stderr",
     "output_type": "stream",
     "text": [
      "Epoch 11/20:   0%|          | 0/157 [00:48<?, ?batch/s, loss=0]\n"
     ]
    },
    {
     "name": "stdout",
     "output_type": "stream",
     "text": [
      "[12/20] Loss: 1.1341\n"
     ]
    },
    {
     "name": "stderr",
     "output_type": "stream",
     "text": [
      "Epoch 12/20:   0%|          | 0/157 [00:48<?, ?batch/s, loss=0]\n",
      "Epoch 13/20:   0%|          | 0/157 [00:56<?, ?batch/s, loss=0]       "
     ]
    },
    {
     "name": "stdout",
     "output_type": "stream",
     "text": [
      "[13/20] Loss: 0.7516\n"
     ]
    },
    {
     "name": "stderr",
     "output_type": "stream",
     "text": [
      "Epoch 13/20:   0%|          | 0/157 [00:56<?, ?batch/s, loss=0]\n"
     ]
    },
    {
     "name": "stdout",
     "output_type": "stream",
     "text": [
      "[14/20] Loss: 0.5788\n"
     ]
    },
    {
     "name": "stderr",
     "output_type": "stream",
     "text": [
      "Epoch 14/20:   0%|          | 0/157 [00:47<?, ?batch/s, loss=0.00155]\n",
      "Epoch 15/20:   0%|          | 0/157 [00:46<?, ?batch/s, loss=0]       "
     ]
    },
    {
     "name": "stdout",
     "output_type": "stream",
     "text": [
      "[15/20] Loss: 0.6587\n"
     ]
    },
    {
     "name": "stderr",
     "output_type": "stream",
     "text": [
      "Epoch 15/20:   0%|          | 0/157 [00:46<?, ?batch/s, loss=0]\n"
     ]
    },
    {
     "name": "stdout",
     "output_type": "stream",
     "text": [
      "[16/20] Loss: 0.6085\n"
     ]
    },
    {
     "name": "stderr",
     "output_type": "stream",
     "text": [
      "Epoch 16/20:   0%|          | 0/157 [00:55<?, ?batch/s, loss=0]\n",
      "Epoch 17/20:   0%|          | 0/157 [00:50<?, ?batch/s, loss=0.0379]  "
     ]
    },
    {
     "name": "stdout",
     "output_type": "stream",
     "text": [
      "[17/20] Loss: 0.3006\n"
     ]
    },
    {
     "name": "stderr",
     "output_type": "stream",
     "text": [
      "Epoch 17/20:   0%|          | 0/157 [00:50<?, ?batch/s, loss=0.0379]\n"
     ]
    },
    {
     "name": "stdout",
     "output_type": "stream",
     "text": [
      "[18/20] Loss: 0.5599\n"
     ]
    },
    {
     "name": "stderr",
     "output_type": "stream",
     "text": [
      "Epoch 18/20:   0%|          | 0/157 [00:48<?, ?batch/s, loss=0.0325]\n",
      "Epoch 19/20:   0%|          | 0/157 [00:47<?, ?batch/s, loss=0.0363]  "
     ]
    },
    {
     "name": "stdout",
     "output_type": "stream",
     "text": [
      "[19/20] Loss: 0.7846\n"
     ]
    },
    {
     "name": "stderr",
     "output_type": "stream",
     "text": [
      "Epoch 19/20:   0%|          | 0/157 [00:47<?, ?batch/s, loss=0.0363]\n"
     ]
    },
    {
     "name": "stdout",
     "output_type": "stream",
     "text": [
      "[20/20] Loss: 0.7083\n"
     ]
    }
   ],
   "source": [
    "epochs = 20\n",
    "train_loss =[]\n",
    "\n",
    "for epoch in range(epochs):\n",
    "    model.train()\n",
    "    total_loss = 0.0\n",
    "    \n",
    "    batch_iterator = tqdm(train_loader, desc=f\"Epoch {epoch+1}/{epochs}\", unit=\"batch\")\n",
    "    \n",
    "    for imgs, labels in train_loader:\n",
    "        imgs, labels = imgs.to(device), labels.to(device)\n",
    "\n",
    "        optimizer.zero_grad()\n",
    "        features = model(imgs)\n",
    "\n",
    "        # Triplet 쌍 구성\n",
    "        anchor, positive, negative = create_triplets(features, labels)\n",
    "        anchor, positive, negative = anchor.to(device), positive.to(device), negative.to(device)\n",
    "\n",
    "        loss = triplet_loss(anchor, positive, negative)\n",
    "        loss.backward()\n",
    "        optimizer.step()\n",
    "\n",
    "        total_loss += loss.item()\n",
    "\n",
    "        batch_iterator.set_postfix(loss=loss.item())\n",
    "        \n",
    "    average_loss = total_loss / len(train_loader)\n",
    "    train_loss.append(average_loss)\n",
    "    print(f\"[{epoch+1}/{epochs}] Loss: {total_loss:.4f}\")\n",
    "\n",
    "torch.save(model.state_dict(), \"deepsort_encoder.pth\")"
   ]
  },
  {
   "cell_type": "code",
   "execution_count": 7,
   "id": "8ec973ea",
   "metadata": {},
   "outputs": [
    {
     "data": {
      "image/png": "[encoded data removed]",
      "text/plain": [
       "<Figure size 800x500 with 1 Axes>"
      ]
     },
     "metadata": {},
     "output_type": "display_data"
    }
   ],
   "source": [
    "#  train loss 그래프 출력력\n",
    "plt.figure(figsize=(8, 5))\n",
    "plt.plot(range(1, epochs+1), train_loss, marker='o', linestyle='-', color='b')\n",
    "plt.title(\"Train Loss per Epoch\")\n",
    "plt.xlabel(\"Epoch\")\n",
    "plt.ylabel(\"Loss\")\n",
    "plt.grid(True)\n",
    "plt.show()"
   ]
  }
 ],
 "metadata": {
  "kernelspec": {
   "display_name": "test_py",
   "language": "python",
   "name": "python3"
  },
  "language_info": {
   "codemirror_mode": {
    "name": "ipython",
    "version": 3
   },
   "file_extension": ".py",
   "mimetype": "text/x-python",
   "name": "python",
   "nbconvert_exporter": "python",
   "pygments_lexer": "ipython3",
   "version": "3.10.18"
  }
 },
 "nbformat": 4,
 "nbformat_minor": 5
}
